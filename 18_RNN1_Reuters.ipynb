{
 "cells": [
  {
   "cell_type": "code",
   "execution_count": 1,
   "metadata": {},
   "outputs": [
    {
     "name": "stdout",
     "output_type": "stream",
     "text": [
      "Downloading data from https://storage.googleapis.com/tensorflow/tf-keras-datasets/reuters.npz\n",
      "2113536/2110848 [==============================] - 2s 1us/step\n",
      "46 카테고리\n",
      "8982 학습용 뉴스 기사\n",
      "2246 테스트용 뉴스 기사\n",
      "[1, 2, 2, 8, 43, 10, 447, 5, 25, 207, 270, 5, 2, 111, 16, 369, 186, 90, 67, 7, 89, 5, 19, 102, 6, 19, 124, 15, 90, 67, 84, 22, 482, 26, 7, 48, 4, 49, 8, 864, 39, 209, 154, 6, 151, 6, 83, 11, 15, 22, 155, 11, 15, 7, 48, 9, 2, 2, 504, 6, 258, 6, 272, 11, 15, 22, 134, 44, 11, 15, 16, 8, 197, 2, 90, 67, 52, 29, 209, 30, 32, 132, 6, 109, 15, 17, 12]\n"
     ]
    }
   ],
   "source": [
    "import numpy\n",
    "import tensorflow as tf\n",
    "import matplotlib.pyplot as plt\n",
    "\n",
    "# 로이터 뉴스 데이터셋 불러오기\n",
    "from keras.datasets import reuters\n",
    "from keras.models import Sequential\n",
    "#from tensorflow.keras.models import Sequential\n",
    "#from tensorflow.keras.layers import Dense,LSTM,Embedding\n",
    "from keras.layers import Dense, LSTM, Embedding\n",
    "from keras.preprocessing import sequence\n",
    "from keras.utils import np_utils\n",
    "\n",
    "# seed 값 설정\n",
    "seed = 0\n",
    "numpy.random.seed(seed)\n",
    "tf.random.set_seed(3)\n",
    "\n",
    "# 불러온 데이터를 학습셋, 테스트셋으로 나누기\n",
    "(X_train, Y_train), (X_test, Y_test) = reuters.load_data(num_words=1000, test_split=0.2)\n",
    "\n",
    "# 데이터 확인하기\n",
    "category = numpy.max(Y_train) + 1\n",
    "print(category, '카테고리')\n",
    "print(len(X_train), '학습용 뉴스 기사')\n",
    "print(len(X_test), '테스트용 뉴스 기사')\n",
    "print(X_train[0])"
   ]
  },
  {
   "cell_type": "code",
   "execution_count": 2,
   "metadata": {},
   "outputs": [],
   "source": [
    "# 데이터 전처리\n",
    "x_train = sequence.pad_sequences(X_train, maxlen=100)\n",
    "x_test = sequence.pad_sequences(X_test, maxlen=100)\n",
    "y_train = np_utils.to_categorical(Y_train)\n",
    "y_test = np_utils.to_categorical(Y_test)"
   ]
  },
  {
   "cell_type": "code",
   "execution_count": 3,
   "metadata": {},
   "outputs": [
    {
     "name": "stdout",
     "output_type": "stream",
     "text": [
      "Epoch 1/20\n",
      "90/90 [==============================] - 6s 67ms/step - loss: 2.5777 - accuracy: 0.3497 - val_loss: 2.1698 - val_accuracy: 0.4488\n",
      "Epoch 2/20\n",
      "90/90 [==============================] - 6s 67ms/step - loss: 2.0339 - accuracy: 0.4905 - val_loss: 1.9338 - val_accuracy: 0.5009\n",
      "Epoch 3/20\n",
      "90/90 [==============================] - 6s 70ms/step - loss: 1.8881 - accuracy: 0.5070 - val_loss: 1.7839 - val_accuracy: 0.5401\n",
      "Epoch 4/20\n",
      "90/90 [==============================] - 7s 77ms/step - loss: 1.7426 - accuracy: 0.5441 - val_loss: 1.7938 - val_accuracy: 0.5338\n",
      "Epoch 5/20\n",
      "90/90 [==============================] - 6s 70ms/step - loss: 1.6963 - accuracy: 0.5640 - val_loss: 1.7573 - val_accuracy: 0.5597\n",
      "Epoch 6/20\n",
      "90/90 [==============================] - 7s 73ms/step - loss: 1.6491 - accuracy: 0.5750 - val_loss: 1.6466 - val_accuracy: 0.5788\n",
      "Epoch 7/20\n",
      "90/90 [==============================] - 7s 78ms/step - loss: 1.5493 - accuracy: 0.6081 - val_loss: 1.5434 - val_accuracy: 0.6193\n",
      "Epoch 8/20\n",
      "90/90 [==============================] - 8s 84ms/step - loss: 1.4484 - accuracy: 0.6319 - val_loss: 1.5176 - val_accuracy: 0.6215\n",
      "Epoch 9/20\n",
      "90/90 [==============================] - 8s 84ms/step - loss: 1.3622 - accuracy: 0.6530 - val_loss: 1.4443 - val_accuracy: 0.6367\n",
      "Epoch 10/20\n",
      "90/90 [==============================] - 9s 98ms/step - loss: 1.2696 - accuracy: 0.6750 - val_loss: 1.3673 - val_accuracy: 0.6500\n",
      "Epoch 11/20\n",
      "90/90 [==============================] - 7s 75ms/step - loss: 1.1926 - accuracy: 0.6921 - val_loss: 1.3502 - val_accuracy: 0.6607\n",
      "Epoch 12/20\n",
      "90/90 [==============================] - 7s 75ms/step - loss: 1.1374 - accuracy: 0.7100 - val_loss: 1.2967 - val_accuracy: 0.6745\n",
      "Epoch 13/20\n",
      "90/90 [==============================] - 6s 72ms/step - loss: 1.0842 - accuracy: 0.7250 - val_loss: 1.2664 - val_accuracy: 0.6781\n",
      "Epoch 14/20\n",
      "90/90 [==============================] - 7s 74ms/step - loss: 1.0381 - accuracy: 0.7348 - val_loss: 1.2413 - val_accuracy: 0.6906\n",
      "Epoch 15/20\n",
      "90/90 [==============================] - 7s 75ms/step - loss: 0.9901 - accuracy: 0.7460 - val_loss: 1.2276 - val_accuracy: 0.7017\n",
      "Epoch 16/20\n",
      "90/90 [==============================] - 7s 75ms/step - loss: 0.9575 - accuracy: 0.7572 - val_loss: 1.2282 - val_accuracy: 0.6928\n",
      "Epoch 17/20\n",
      "90/90 [==============================] - 7s 75ms/step - loss: 0.9063 - accuracy: 0.7695 - val_loss: 1.1849 - val_accuracy: 0.7088\n",
      "Epoch 18/20\n",
      "90/90 [==============================] - 7s 76ms/step - loss: 0.8750 - accuracy: 0.7770 - val_loss: 1.2037 - val_accuracy: 0.6874\n",
      "Epoch 19/20\n",
      "90/90 [==============================] - 7s 74ms/step - loss: 0.8440 - accuracy: 0.7872 - val_loss: 1.2191 - val_accuracy: 0.6883\n",
      "Epoch 20/20\n",
      "90/90 [==============================] - 7s 75ms/step - loss: 0.8073 - accuracy: 0.7947 - val_loss: 1.1960 - val_accuracy: 0.7168\n",
      "71/71 [==============================] - 1s 9ms/step - loss: 1.1960 - accuracy: 0.7168\n",
      "\n",
      " Test Accuracy: 0.7168\n"
     ]
    },
    {
     "data": {
      "image/png": "[encoded data removed]",
      "text/plain": [
       "<Figure size 432x288 with 1 Axes>"
      ]
     },
     "metadata": {
      "needs_background": "light"
     },
     "output_type": "display_data"
    }
   ],
   "source": [
    "# 모델의 설정\n",
    "model = Sequential()\n",
    "model.add(Embedding(1000, 100))\n",
    "model.add(LSTM(100, activation='tanh'))\n",
    "model.add(Dense(46, activation='softmax'))\n",
    "\n",
    "# 모델의 컴파일\n",
    "model.compile(loss='categorical_crossentropy',\n",
    "            optimizer='adam',\n",
    "            metrics=['accuracy'])\n",
    "\n",
    "# 모델의 실행\n",
    "history = model.fit(x_train, y_train, batch_size=100, \n",
    "                    epochs=20, validation_data=(x_test, y_test))\n",
    "\n",
    "# 테스트 정확도 출력\n",
    "print(\"\\n Test Accuracy: %.4f\" % (model.evaluate(x_test, y_test)[1]))\n",
    "\n",
    "# 테스트 셋의 오차\n",
    "y_vloss = history.history['val_loss']\n",
    "\n",
    "# 학습셋의 오차\n",
    "y_loss = history.history['loss']\n",
    "\n",
    "# 그래프로 표현\n",
    "x_len = numpy.arange(len(y_loss))\n",
    "plt.plot(x_len, y_vloss, marker='.', c=\"red\", label='Testset_loss')\n",
    "plt.plot(x_len, y_loss, marker='.', c=\"blue\", label='Trainset_loss')\n",
    "\n",
    "# 그래프에 그리드를 주고 레이블을 표시\n",
    "plt.legend(loc='upper right')\n",
    "plt.grid()\n",
    "plt.xlabel('epoch')\n",
    "plt.ylabel('loss')\n",
    "plt.show()"
   ]
  },
  {
   "cell_type": "code",
   "execution_count": null,
   "metadata": {},
   "outputs": [],
   "source": []
  }
 ],
 "metadata": {
  "kernelspec": {
   "display_name": "Python 3",
   "language": "python",
   "name": "python3"
  },
  "language_info": {
   "codemirror_mode": {
    "name": "ipython",
    "version": 3
   },
   "file_extension": ".py",
   "mimetype": "text/x-python",
   "name": "python",
   "nbconvert_exporter": "python",
   "pygments_lexer": "ipython3",
   "version": "3.6.10"
  },
  "toc": {
   "base_numbering": 1,
   "nav_menu": {},
   "number_sections": true,
   "sideBar": true,
   "skip_h1_title": false,
   "title_cell": "Table of Contents",
   "title_sidebar": "Contents",
   "toc_cell": false,
   "toc_position": {},
   "toc_section_display": true,
   "toc_window_display": false
  },
  "varInspector": {
   "cols": {
    "lenName": 16,
    "lenType": 16,
    "lenVar": 40
   },
   "kernels_config": {
    "python": {
     "delete_cmd_postfix": "",
     "delete_cmd_prefix": "del ",
     "library": "var_list.py",
     "varRefreshCmd": "print(var_dic_list())"
    },
    "r": {
     "delete_cmd_postfix": ") ",
     "delete_cmd_prefix": "rm(",
     "library": "var_list.r",
     "varRefreshCmd": "cat(var_dic_list()) "
    }
   },
   "types_to_exclude": [
    "module",
    "function",
    "builtin_function_or_method",
    "instance",
    "_Feature"
   ],
   "window_display": false
  }
 },
 "nbformat": 4,
 "nbformat_minor": 2
}
